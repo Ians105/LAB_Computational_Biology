{
 "cells": [
  {
   "cell_type": "code",
   "execution_count": 1,
   "metadata": {},
   "outputs": [],
   "source": [
    "# %pip install BioPython"
   ]
  },
  {
   "cell_type": "code",
   "execution_count": 2,
   "metadata": {},
   "outputs": [],
   "source": [
    "from Bio.Seq import Seq\n",
    "\n",
    "seqA = Seq(\"CGATCGAT\")\n",
    "seqB = Seq(\"ACGTGTAC\")"
   ]
  },
  {
   "cell_type": "code",
   "execution_count": 3,
   "metadata": {},
   "outputs": [
    {
     "name": "stdout",
     "output_type": "stream",
     "text": [
      "Alignment(seqA='-CGATCGAT--', seqB='ACG-T-G-TAC', score=5.0, start=0, end=11)\n",
      "Alignment(seqA='-CGATCG-AT-', seqB='ACG-T-GTA-C', score=5.0, start=0, end=11)\n",
      "Alignment(seqA='-CGATCG-AT', seqB='ACG-T-GTAC', score=5.0, start=0, end=10)\n",
      "-CGATCGAT--\n",
      " || | | |  \n",
      "ACG-T-G-TAC\n",
      "  Score=5\n",
      "\n",
      "-CGATCG-AT-\n",
      " || | | |  \n",
      "ACG-T-GTA-C\n",
      "  Score=5\n",
      "\n",
      "-CGATCG-AT\n",
      " || | | |.\n",
      "ACG-T-GTAC\n",
      "  Score=5\n",
      "\n"
     ]
    },
    {
     "name": "stderr",
     "output_type": "stream",
     "text": [
      "c:\\Users\\Christian Arifin\\anaconda3\\lib\\site-packages\\Bio\\pairwise2.py:278: BiopythonDeprecationWarning: Bio.pairwise2 has been deprecated, and we intend to remove it in a future release of Biopython. As an alternative, please consider using Bio.Align.PairwiseAligner as a replacement, and contact the Biopython developers if you still need the Bio.pairwise2 module.\n",
      "  warnings.warn(\n"
     ]
    }
   ],
   "source": [
    "# Global Alignment\n",
    "from Bio import pairwise2\n",
    "\n",
    "# seqA -> main sequence\n",
    "alignments = pairwise2.align.globalxx(seqA, seqB)\n",
    "\n",
    "    # xx -> default, if there is a connection add 1 point\n",
    "    # mx -> Custom match, mismatch\n",
    "    # ms -> Custom match, mismatch, gap start, gap extend\n",
    "\n",
    "# print alignment\n",
    "for a in alignments:\n",
    "    print(a)\n",
    "\n",
    "# Print visual\n",
    "from Bio.pairwise2 import format_alignment\n",
    "\n",
    "for a in alignments:\n",
    "    print(format_alignment(*a))"
   ]
  },
  {
   "cell_type": "code",
   "execution_count": 4,
   "metadata": {},
   "outputs": [
    {
     "name": "stdout",
     "output_type": "stream",
     "text": [
      "-CGATCGAT--\n",
      " || | | |  \n",
      "ACG-T-G-TAC\n",
      "  Score=2.4\n",
      "\n"
     ]
    }
   ],
   "source": [
    "# match -> 1 point\n",
    "# mismatch -> -1 point\n",
    "# gap start -> -0.5 point\n",
    "# gap extend -> -0.1 point\n",
    "\n",
    "alignments = pairwise2.align.globalms(seqA, seqB, 1, -1, -0.5, -0.1)\n",
    "\n",
    "for a in alignments:\n",
    "    print(format_alignment(*a))"
   ]
  },
  {
   "cell_type": "code",
   "execution_count": 5,
   "metadata": {},
   "outputs": [
    {
     "name": "stdout",
     "output_type": "stream",
     "text": [
      "Alignment(seqA='-CGATCGAT--', seqB='ACG-T-G-TAC', score=5.0, start=1, end=9)\n",
      "Alignment(seqA='-CGATCG-AT', seqB='ACG-T-GTAC', score=5.0, start=1, end=9)\n",
      "1 CGATCGAT\n",
      "  || | | |\n",
      "2 CG-T-G-T\n",
      "  Score=5\n",
      "\n",
      "1 CGATCG-A\n",
      "  || | | |\n",
      "2 CG-T-GTA\n",
      "  Score=5\n",
      "\n"
     ]
    }
   ],
   "source": [
    "# Local Alignment\n",
    "alignments = pairwise2.align.localxx(seqA, seqB)\n",
    "\n",
    "\n",
    "# print alignment\n",
    "for a in alignments:\n",
    "    print(a)\n",
    "\n",
    "\n",
    "for a in alignments:\n",
    "    print(format_alignment(*a))"
   ]
  },
  {
   "cell_type": "code",
   "execution_count": 6,
   "metadata": {},
   "outputs": [
    {
     "name": "stdout",
     "output_type": "stream",
     "text": [
      "6\n"
     ]
    }
   ],
   "source": [
    "# Hamming distance is the number of positions at which the corresponding symbols are different between two sequences of equal length.\n",
    "\n",
    "def hamming(SeqA, SeqB):\n",
    "    # return sum(1 for a, b in zip(SeqA, SeqB) if a != b)\n",
    "    mismatch_count = []\n",
    "    for a, b in zip(SeqA, SeqB):\n",
    "        if a != b:\n",
    "            mismatch_count.append(1)\n",
    "    return sum(mismatch_count)\n",
    "\n",
    "print(hamming(seqA, seqB))"
   ]
  },
  {
   "cell_type": "code",
   "execution_count": 7,
   "metadata": {},
   "outputs": [
    {
     "name": "stdout",
     "output_type": "stream",
     "text": [
      "Requirement already satisfied: python-Levenshtein in c:\\users\\christian arifin\\anaconda3\\lib\\site-packages (0.25.0)\n",
      "Requirement already satisfied: Levenshtein==0.25.0 in c:\\users\\christian arifin\\anaconda3\\lib\\site-packages (from python-Levenshtein) (0.25.0)\n",
      "Requirement already satisfied: rapidfuzz<4.0.0,>=3.1.0 in c:\\users\\christian arifin\\anaconda3\\lib\\site-packages (from Levenshtein==0.25.0->python-Levenshtein) (3.7.0)\n",
      "Note: you may need to restart the kernel to use updated packages.\n"
     ]
    }
   ],
   "source": [
    "# Levenshtein distance is a string metric for measuring the difference between two sequences.\n",
    "# Informally, the Levenshtein distance between two words is the minimum number of single-character edits (insertions, deletions, or substitutions) required to change one word into the other.\n",
    "\n",
    "%pip install python-Levenshtein"
   ]
  },
  {
   "cell_type": "code",
   "execution_count": 8,
   "metadata": {},
   "outputs": [
    {
     "name": "stdout",
     "output_type": "stream",
     "text": [
      "5\n"
     ]
    }
   ],
   "source": [
    "from Levenshtein import distance\n",
    "\n",
    "print(distance(seqA, seqB))"
   ]
  },
  {
   "cell_type": "code",
   "execution_count": 9,
   "metadata": {},
   "outputs": [],
   "source": [
    "# delta: is to check if the two nucleotides are the same or not, if same return 0, if not return 1\n",
    "# M function: make sure delta is correcct based on number of K (length of simmilarity)\n",
    "# Make matrix: to check one row\n",
    "# Plot matrix: Create 2D matrix\n",
    "# Dot plot: Combine all the functions"
   ]
  },
  {
   "cell_type": "code",
   "execution_count": 10,
   "metadata": {},
   "outputs": [
    {
     "name": "stdout",
     "output_type": "stream",
     "text": [
      " |ACGTGTAC\n",
      "------------\n",
      "C| ■     ■\n",
      "G|  ■ ■   \n",
      "A|■     ■ \n",
      "T|   ■ ■  \n",
      "C| ■     ■\n",
      "G|  ■ ■   \n",
      "A|■     ■ \n",
      "T|   ■ ■  \n"
     ]
    }
   ],
   "source": [
    "def delta(x, y):\n",
    "    return 0 if x == y else 1\n",
    "\n",
    "# i: starting point of sequence 1\n",
    "# j: starting point of sequence 2\n",
    "# k: length of similarity\n",
    "def M(seqA, seqB, i, j, k):\n",
    "    # return sum(delta(x, y) for x, y in zip(seq1[i:i+k], seq2[j:j+k]))\n",
    "    m = []\n",
    "    for x, y in zip(seqA[i:i+k], seqB[j:j+k]):\n",
    "        m.append(delta(x, y))\n",
    "    return sum(m)\n",
    "\n",
    "def makeMatrix(seqA, seqB, k):\n",
    "    # n = len(seqA)\n",
    "    # m = len(seqB)\n",
    "    # return [[M(seqA, seqB, i, j, k) for j in range(m - k + 1)] for i in range(n - k + 1)]\n",
    "    m1 = []\n",
    "    for i in range(len(seqA) - k + 1):\n",
    "        m2 = []\n",
    "        for j in range(len(seqB) - k + 1):\n",
    "            m2.append(M(seqA, seqB, i, j, k))\n",
    "        m1.append(m2)\n",
    "    return m1\n",
    "\n",
    "def plotMatrix(matrix, seqA, seqB, nonblank = chr(0x25A0), blank = ' '):\n",
    "    print(' |' + seqB)\n",
    "    print('-' * (4 + (len(seqB))))\n",
    "\n",
    "    for nucleotide, row in zip(seqA, matrix):\n",
    "        line = ''.join(nonblank if score < 1 else blank for score in row)\n",
    "        print(nucleotide + '|' + line)\n",
    "\n",
    "def dotPlot(seqA, seqB, k):\n",
    "    matrix = makeMatrix(seqA, seqB, k)\n",
    "    plotMatrix(matrix, seqA, seqB)\n",
    "\n",
    "dotPlot(seqA, seqB, 1)"
   ]
  }
 ],
 "metadata": {
  "kernelspec": {
   "display_name": "base",
   "language": "python",
   "name": "python3"
  },
  "language_info": {
   "codemirror_mode": {
    "name": "ipython",
    "version": 3
   },
   "file_extension": ".py",
   "mimetype": "text/x-python",
   "name": "python",
   "nbconvert_exporter": "python",
   "pygments_lexer": "ipython3",
   "version": "3.9.13"
  }
 },
 "nbformat": 4,
 "nbformat_minor": 2
}
