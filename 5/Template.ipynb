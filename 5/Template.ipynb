{
 "cells": [
  {
   "cell_type": "markdown",
   "metadata": {},
   "source": [
    "## Session 5 (BEFORE QUIZ)"
   ]
  },
  {
   "cell_type": "code",
   "execution_count": null,
   "metadata": {},
   "outputs": [],
   "source": [
    "# Import SeqIO from Bio library\n",
    "# from Bio import SeqIO"
   ]
  },
  {
   "cell_type": "code",
   "execution_count": null,
   "metadata": {},
   "outputs": [],
   "source": [
    "# %pip install Bio"
   ]
  },
  {
   "cell_type": "code",
   "execution_count": null,
   "metadata": {},
   "outputs": [],
   "source": [
    "# Load A FASTA file format (Using for loop)\n",
    "for file in SeqIO.parse(\"sequence.fasta\", \"fasta\"):\n",
    "    # print(file)\n",
    "    print(file.id)\n",
    "    print(file.seq)\n",
    "\n",
    "# Usually only the sequence is needed"
   ]
  },
  {
   "cell_type": "code",
   "execution_count": null,
   "metadata": {},
   "outputs": [],
   "source": [
    "# Load A FASTA file format (Using variable)\n",
    "fasta_file = SeqIO.read(\"sequence.fasta\", \"fasta\")\n",
    "# print(fasta_file)\n",
    "print(fasta_file.description)"
   ]
  },
  {
   "cell_type": "code",
   "execution_count": null,
   "metadata": {},
   "outputs": [],
   "source": [
    "# Load a GenBank File format (Using for loop)\n",
    "for file in SeqIO.parse(\"sequence.gb\", \"genbank\"):\n",
    "    print(file)\n",
    "    # print(file.id)\n",
    "    # print(file.seq)"
   ]
  },
  {
   "cell_type": "code",
   "execution_count": null,
   "metadata": {},
   "outputs": [],
   "source": [
    "# Load a GenBank File format (Using variable)\n",
    "GenBank_file = SeqIO.read(\"sequence.gb\", \"genbank\")\n",
    "print(GenBank_file)\n",
    "# print(GenBank_file.description)"
   ]
  },
  {
   "cell_type": "markdown",
   "metadata": {},
   "source": [
    "## QUIZ PRACTICE (QUICK RECAP FROM SESSION 1 - SESSION 3)"
   ]
  },
  {
   "cell_type": "markdown",
   "metadata": {},
   "source": [
    "### SESSION 1"
   ]
  },
  {
   "cell_type": "code",
   "execution_count": null,
   "metadata": {},
   "outputs": [],
   "source": [
    "# Make new sequence from fasta.sequence\n",
    "from Bio.Seq import Seq\n",
    "fasta_seq = Seq(fasta_file.seq)\n",
    "print(fasta_seq)\n",
    "\n",
    "sequence = fasta_file.seq\n",
    "print(sequence)"
   ]
  },
  {
   "cell_type": "code",
   "execution_count": null,
   "metadata": {},
   "outputs": [],
   "source": [
    "# Find length of the sequence Fasta File\n",
    "print(len(sequence))"
   ]
  },
  {
   "cell_type": "code",
   "execution_count": null,
   "metadata": {},
   "outputs": [],
   "source": [
    "# Make new DNA with 18 starting nucleotides from Fasta Sequence (Slicing)\n",
    "# [start index : stop index : step]\n",
    "DNA = sequence[:18]\n",
    "print(DNA)"
   ]
  },
  {
   "cell_type": "code",
   "execution_count": null,
   "metadata": {},
   "outputs": [],
   "source": [
    "# Reverse the DNA\n",
    "reverse_DNA = DNA[::-1]\n",
    "print(reverse_DNA)"
   ]
  },
  {
   "cell_type": "code",
   "execution_count": null,
   "metadata": {},
   "outputs": [],
   "source": [
    "# Plot the DNA sequence nucleotide frequency\n",
    "from collections import Counter\n",
    "import matplotlib.pyplot as plt\n",
    "\n",
    "# Count the frequency of each nucleotide\n",
    "nucleotide_freq = Counter(DNA)\n",
    "print(nucleotide_freq)\n",
    "\n",
    "# Plot the frequency of each nucleotide\n",
    "plt.bar(nucleotide_freq.keys(), nucleotide_freq.values())\n",
    "plt.show()"
   ]
  },
  {
   "cell_type": "markdown",
   "metadata": {},
   "source": [
    "### SESSION 2"
   ]
  },
  {
   "cell_type": "code",
   "execution_count": null,
   "metadata": {},
   "outputs": [],
   "source": [
    "# Find the GC & AT content of DNA\n",
    "\n",
    "from Bio.SeqUtils import gc_fraction\n",
    "\n",
    "# Calculate the GC & AT content\n",
    "GC_content = gc_fraction(DNA) * 100\n",
    "AT_content = 100 - GC_content\n",
    "\n",
    "print(f\"GC content: {GC_content}\")\n",
    "print(f\"AT content: {AT_content}\")"
   ]
  },
  {
   "cell_type": "code",
   "execution_count": null,
   "metadata": {},
   "outputs": [],
   "source": [
    "# Find the melting temperature using Wallace, NN, GC of DNA\n",
    "\n",
    "from Bio.SeqUtils import MeltingTemp as mt\n",
    "\n",
    "# Calculate the melting temperature\n",
    "\n",
    "# Wallace formula\n",
    "Wallace = mt.Tm_Wallace(DNA)\n",
    "print(f\"Melting Temperature using Wallace: {Wallace}\")\n",
    "\n",
    "# Nearest-Neighbor formula\n",
    "NN = mt.Tm_NN(DNA)\n",
    "print(f\"Melting Temperature using NN: {NN}\")\n",
    "\n",
    "# GC formula\n",
    "GC = mt.Tm_GC(DNA)\n",
    "print(f\"Melting Temperature using GC: {GC}\")"
   ]
  },
  {
   "cell_type": "code",
   "execution_count": null,
   "metadata": {},
   "outputs": [],
   "source": [
    "# Find the molecular weight of DNA\n",
    "from Bio.SeqUtils import molecular_weight as mw\n",
    "\n",
    "# Calculate the molecular weight\n",
    "molecular_weight = mw(DNA)\n",
    "print(f\"Molecular Weight: {molecular_weight}\")"
   ]
  },
  {
   "cell_type": "markdown",
   "metadata": {},
   "source": [
    "### SESSION 3"
   ]
  },
  {
   "cell_type": "code",
   "execution_count": null,
   "metadata": {},
   "outputs": [],
   "source": [
    "# Transcribe the DNA\n",
    "\n",
    "mRNA = DNA.transcribe()\n",
    "print(mRNA)"
   ]
  },
  {
   "cell_type": "code",
   "execution_count": null,
   "metadata": {},
   "outputs": [],
   "source": [
    "# Translate the DNA\n",
    "\n",
    "protein = DNA.translate()\n",
    "print(protein)\n",
    "\n",
    "protein = mRNA.translate()\n",
    "print(protein)"
   ]
  },
  {
   "cell_type": "code",
   "execution_count": null,
   "metadata": {},
   "outputs": [],
   "source": [
    "# Convert Amino Acid to 3 letter codon\n",
    "\n",
    "from Bio.SeqUtils import seq3\n",
    "\n",
    "# Convert the amino acid to 3 letter codon\n",
    "three_letter = seq3(protein)\n",
    "print(three_letter)"
   ]
  },
  {
   "cell_type": "code",
   "execution_count": null,
   "metadata": {},
   "outputs": [],
   "source": [
    "# Convert back from 3 letter codon to 1 letter codon\n",
    "\n",
    "from Bio.SeqUtils import seq1\n",
    "\n",
    "# Convert the 3 letter codon to 1 letter codon\n",
    "one_letter = seq1(three_letter)\n",
    "print(one_letter)"
   ]
  },
  {
   "cell_type": "code",
   "execution_count": null,
   "metadata": {},
   "outputs": [],
   "source": [
    "# Remove the letter n from a sequence\n",
    "\n",
    "sequence = Seq(\"GCAN\")\n",
    "\n",
    "# Remove the letter n from the sequence\n",
    "sequence = sequence.strip(\"N\")\n",
    "# print(sequence.ungap(\"N\"))\n",
    "\n",
    "print(sequence)"
   ]
  }
 ],
 "metadata": {
  "kernelspec": {
   "display_name": "Python 3",
   "language": "python",
   "name": "python3"
  },
  "language_info": {
   "codemirror_mode": {
    "name": "ipython",
    "version": 3
   },
   "file_extension": ".py",
   "mimetype": "text/x-python",
   "name": "python",
   "nbconvert_exporter": "python",
   "pygments_lexer": "ipython3",
   "version": "3.9.13"
  }
 },
 "nbformat": 4,
 "nbformat_minor": 2
}
