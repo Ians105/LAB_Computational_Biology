{
 "cells": [
  {
   "cell_type": "code",
   "execution_count": null,
   "metadata": {},
   "outputs": [],
   "source": [
    "# %pip install biopython\n",
    "# %pip install matplotlib"
   ]
  },
  {
   "cell_type": "markdown",
   "metadata": {},
   "source": [
    "# Sequence Manipulation:\n",
    "1. Display the total length of Sequence X and Y.\n",
    "2. Display which index the first time the codon (CGC) appears in Sequence X and Y.\n",
    "3. Create a new sequence using the following task below:\n",
    "- Take the first 10 nucleotides from Sequence X and the last 5 nucleotides from Sequence X.\n",
    "- Take the first 20 nucleotides from Sequence Y and the last 3 nucleotides from Sequence Y.\n",
    "- Combine both of the string above and reverse it to a new sequence, Sequence Z."
   ]
  },
  {
   "cell_type": "code",
   "execution_count": null,
   "metadata": {},
   "outputs": [],
   "source": [
    "# Print the total length of sequence x and y in the fasta files x.fasta and y.fasta respectively.\n",
    "\n",
    "from Bio import SeqIO, Seq\n",
    "\n",
    "seq_x = SeqIO.read(\"x.fasta\", \"fasta\").seq\n",
    "seq_x = seq_x.replace(\"N\", \"\")\n",
    "seq_y = SeqIO.read(\"y.fasta\", \"fasta\").seq\n",
    "seq_y = seq_y.replace(\"N\", \"\")\n",
    "\n",
    "print(\"Total length of Sequence\", len(seq_x))\n",
    "print(\"Total length of Sequence\", len(seq_y))"
   ]
  },
  {
   "cell_type": "code",
   "execution_count": null,
   "metadata": {},
   "outputs": [],
   "source": [
    "# Print the first index the codon CDC appears in sequence x and y.\n",
    "\n",
    "from Bio.Seq import Seq\n",
    "\n",
    "find_seq = Seq(\"CGC\")\n",
    "\n",
    "print(\"The first time codon CDC appears in sequence x:\", seq_x.find(find_seq))\n",
    "print(seq_x[51:])\n",
    "print(\"The first time codon CDC appears in sequence y:\", seq_y.find(find_seq))\n",
    "print(seq_y[39:])"
   ]
  },
  {
   "cell_type": "code",
   "execution_count": null,
   "metadata": {},
   "outputs": [],
   "source": [
    "# Create a new sequence x by concatenating the first 10 and last 5 bases of sequence x.\n",
    "new_seq_x = seq_x[:10] + seq_x[-5]\n",
    "print(\"New sequence x:\", new_seq_x)\n",
    "\n",
    "# Create a new sequence y by concatenating the first 20 and last 3 bases of sequence y.\n",
    "new_seq_y = seq_y[:20] + seq_y[-3]\n",
    "print(\"New sequence y:\", new_seq_y)\n",
    "\n",
    "# Concatenate the new sequences x and y to create a sequence z.\n",
    "seq_z = new_seq_x + new_seq_y\n",
    "print(\"Sequence z:\", seq_z)\n",
    "\n",
    "# Reverse sequence z.\n",
    "seq_z = seq_z[::-1]\n",
    "print(\"Sequence z reversed:\", seq_z)"
   ]
  },
  {
   "cell_type": "markdown",
   "metadata": {},
   "source": [
    "# Sequence Analysis & Plotting\n",
    "1. Display the nucleotides base (A and C) frequency for Sequence Z with a chart using matplotlib library. You are free to plot using bar or pie chart.\n",
    "2. Display GC and AT content percentage for Sequence Z.\n",
    "3. Display melting temperature for Sequence Z using Wallace method.\n",
    "4. Display molecular weight for Sequence Z.\n"
   ]
  },
  {
   "cell_type": "code",
   "execution_count": null,
   "metadata": {},
   "outputs": [],
   "source": [
    "# Plotting (bar or pie) the number of A and C bases in sequence z.\n",
    "\n",
    "A_count = seq_z.count(\"A\")\n",
    "C_count = seq_z.count(\"C\")\n",
    "\n",
    "from matplotlib import pyplot as plt\n",
    "\n",
    "plt.bar([\"A\", \"C\"], [A_count, C_count], color=[\"orange\", \"blue\"])\n",
    "plt.grid(True)\n",
    "plt.show()\n",
    "\n",
    "# plt.pie([A_count, C_count], labels=[\"A\", \"C\"], colors=[\"orange\", \"blue\"])\n",
    "# plt.show()\n"
   ]
  },
  {
   "cell_type": "code",
   "execution_count": null,
   "metadata": {},
   "outputs": [],
   "source": [
    "# Print out the percentage of GC and AT contents in sequence z.\n",
    "\n",
    "# from Bio.SeqUtils import GC -> Lab PC BINUS\n",
    "from Bio.SeqUtils import gc_fraction\n",
    "\n",
    "GC_content = gc_fraction(seq_z)\n",
    "print(\"Percentage of GC content in sequence z:\", GC_content*100, \"%\")\n",
    "AT_content = 1 - GC_content\n",
    "print(\"Percentage of AT content in sequence z:\", AT_content*100, \"%\")"
   ]
  },
  {
   "cell_type": "code",
   "execution_count": null,
   "metadata": {},
   "outputs": [],
   "source": [
    "# Print out the melting temperature of sequence z using the Wallace method.\n",
    "\n",
    "from Bio.SeqUtils import MeltingTemp as MT\n",
    "\n",
    "MT_content = MT.Tm_Wallace(seq_z)\n",
    "\n",
    "print(\"Melting Temperature of sequence z using the Wallace method:\", MT_content, \"°C\")"
   ]
  },
  {
   "cell_type": "code",
   "execution_count": null,
   "metadata": {},
   "outputs": [],
   "source": [
    "# Print out the molecular weight of sequence z.\n",
    "\n",
    "from Bio.SeqUtils import molecular_weight as MW\n",
    "\n",
    "MW_content = MW(seq_z)\n",
    "\n",
    "print(\"Molecular Weight of sequence z:\", MW_content, \"g/mol\")"
   ]
  },
  {
   "cell_type": "markdown",
   "metadata": {},
   "source": [
    "# DNA and mRNA Protein Synthesis:\n",
    "1. Transcribe and display the DNA sequence Z into mRNA Sequence.\n",
    "2. Translate and display the mRNA sequence Z into amino acids Sequence."
   ]
  },
  {
   "cell_type": "code",
   "execution_count": null,
   "metadata": {},
   "outputs": [],
   "source": [
    "# Transcribe sequence z to mRNA and translate it to amino acid sequence.\n",
    "\n",
    "print(\"DNA sequence of sequence z:\", seq_z)\n",
    "\n",
    "mRNA_seq = seq_z.transcribe()\n",
    "print(\"mRNA sequence of sequence z:\", mRNA_seq)\n",
    "\n",
    "protein_seq = mRNA_seq.translate()\n",
    "print(\"Amino acid sequence of sequence z:\", protein_seq)\n",
    "\n",
    "from Bio.SeqUtils import seq1, seq3\n",
    "\n",
    "print(\"Amino acid sequence of sequence z in 1-letter code:\", seq1(protein_seq))\n",
    "print(\"Amino acid sequence of sequence z in 3-letter code:\", seq3(protein_seq))"
   ]
  },
  {
   "cell_type": "markdown",
   "metadata": {},
   "source": [
    "# Sequence Alginment & Similarities:\n",
    "1. Perform local alignment pairwise between sequence X and sequence Y and display the alignment score.\n",
    "2. Perform global alignment pairwise between sequence Y and sequence Z and display the alignment score\n",
    "3. Find and display the Hamming and Levenshtein distance between Sequence X and Y\n"
   ]
  },
  {
   "cell_type": "code",
   "execution_count": null,
   "metadata": {},
   "outputs": [],
   "source": []
  }
 ],
 "metadata": {
  "kernelspec": {
   "display_name": "base",
   "language": "python",
   "name": "python3"
  },
  "language_info": {
   "codemirror_mode": {
    "name": "ipython",
    "version": 3
   },
   "file_extension": ".py",
   "mimetype": "text/x-python",
   "name": "python",
   "nbconvert_exporter": "python",
   "pygments_lexer": "ipython3",
   "version": "3.9.13"
  }
 },
 "nbformat": 4,
 "nbformat_minor": 2
}
