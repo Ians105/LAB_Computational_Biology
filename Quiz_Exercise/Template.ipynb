{
 "cells": [
  {
   "cell_type": "code",
   "execution_count": null,
   "metadata": {},
   "outputs": [],
   "source": [
    "# %pip install biopython\n",
    "# %pip install matplotlib\n",
    "# %pip install python-Levenshtein"
   ]
  },
  {
   "cell_type": "markdown",
   "metadata": {},
   "source": [
    "# Sequence Manipulation:\n",
    "1. Display the total length of Sequence X and Y.\n",
    "2. Display which index the first time the codon (CGC) appears in Sequence X and Y.\n",
    "3. Create a new sequence using the following task below:\n",
    "- Take the first 10 nucleotides from Sequence X and the last 5 nucleotides from Sequence X.\n",
    "- Take the first 20 nucleotides from Sequence Y and the last 3 nucleotides from Sequence Y.\n",
    "- Combine both of the string above and reverse it to a new sequence, Sequence Z."
   ]
  },
  {
   "cell_type": "code",
   "execution_count": null,
   "metadata": {},
   "outputs": [],
   "source": [
    "# Print the total length of sequence x and y in the fasta files x.fasta and y.fasta respectively."
   ]
  },
  {
   "cell_type": "code",
   "execution_count": null,
   "metadata": {},
   "outputs": [],
   "source": [
    "# Print the first index the codon CDC appears in sequence x and y."
   ]
  },
  {
   "cell_type": "code",
   "execution_count": null,
   "metadata": {},
   "outputs": [],
   "source": [
    "# Create a new sequence x by concatenating the first 10 and last 5 bases of sequence x.\n",
    "\n",
    "# Create a new sequence y by concatenating the first 20 and last 3 bases of sequence y.\n",
    "\n",
    "# Concatenate the new sequences x and y to create a sequence z.\n",
    "\n",
    "# Reverse sequence z.\n"
   ]
  },
  {
   "cell_type": "markdown",
   "metadata": {},
   "source": [
    "# Sequence Analysis & Plotting\n",
    "1. Display the nucleotides base (A and C) frequency for Sequence Z with a chart using matplotlib library. You are free to plot using bar or pie chart.\n",
    "2. Display GC and AT content percentage for Sequence Z.\n",
    "3. Display melting temperature for Sequence Z using Wallace method.\n",
    "4. Display molecular weight for Sequence Z.\n"
   ]
  },
  {
   "cell_type": "code",
   "execution_count": null,
   "metadata": {},
   "outputs": [],
   "source": [
    "# Plotting (bar or pie) the number of A and C bases in sequence z.\n"
   ]
  },
  {
   "cell_type": "code",
   "execution_count": null,
   "metadata": {},
   "outputs": [],
   "source": [
    "# Print out the percentage of GC and AT contents in sequence z.\n"
   ]
  },
  {
   "cell_type": "code",
   "execution_count": null,
   "metadata": {},
   "outputs": [],
   "source": [
    "# Print out the melting temperature of sequence z using the Wallace method.\n"
   ]
  },
  {
   "cell_type": "code",
   "execution_count": null,
   "metadata": {},
   "outputs": [],
   "source": [
    "# Print out the molecular weight of sequence z.\n"
   ]
  },
  {
   "cell_type": "markdown",
   "metadata": {},
   "source": [
    "# DNA and mRNA Protein Synthesis:\n",
    "1. Transcribe and display the DNA sequence Z into mRNA Sequence.\n",
    "2. Translate and display the mRNA sequence Z into amino acids Sequence."
   ]
  },
  {
   "cell_type": "code",
   "execution_count": null,
   "metadata": {},
   "outputs": [],
   "source": [
    "# Transcribe sequence z to mRNA and translate it to amino acid sequence.\n"
   ]
  },
  {
   "cell_type": "markdown",
   "metadata": {},
   "source": [
    "# Sequence Alginment & Similarities:\n",
    "1. Perform local alignment pairwise between sequence X and sequence Y and display the alignment score.\n",
    "2. Perform global alignment pairwise between sequence Y and sequence Z and display the alignment score\n",
    "3. Find and display the Hamming and Levenshtein distance between Sequence X and Y"
   ]
  },
  {
   "cell_type": "code",
   "execution_count": null,
   "metadata": {},
   "outputs": [],
   "source": [
    "# Align sequence x and y using the local alignment algorithm and print out the alignment score.\n",
    "\n",
    "# Align sequence x and y using the global alignment algorithm and print out the alignment score.\n"
   ]
  },
  {
   "cell_type": "code",
   "execution_count": null,
   "metadata": {},
   "outputs": [],
   "source": [
    "# Print the hamming distance and levenshtein distance between sequence x and y.\n"
   ]
  }
 ],
 "metadata": {
  "kernelspec": {
   "display_name": "base",
   "language": "python",
   "name": "python3"
  },
  "language_info": {
   "codemirror_mode": {
    "name": "ipython",
    "version": 3
   },
   "file_extension": ".py",
   "mimetype": "text/x-python",
   "name": "python",
   "nbconvert_exporter": "python",
   "pygments_lexer": "ipython3",
   "version": "3.9.13"
  }
 },
 "nbformat": 4,
 "nbformat_minor": 2
}
